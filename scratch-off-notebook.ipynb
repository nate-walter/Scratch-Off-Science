{
 "cells": [
  {
   "cell_type": "markdown",
   "id": "dfc9a64f",
   "metadata": {},
   "source": [
    "# I'm not much of a gambler, but for Data Science I guess I'll give it a shot"
   ]
  },
  {
   "cell_type": "markdown",
   "id": "67c24326",
   "metadata": {},
   "source": [
    "## I dedicated three hundred dollars to invest in Illinois Lottery Scratch Off Tickets.<br>I decided to play the more expensive, higher-payout, scratch off cards that cost thirty dolars a piece. I first went to [The Lottery Website](https://www.illinoislottery.com/about-the-games/unpaid-instant-games-prizes) to see which cards had unpaid large prizes and decided on a scratch card based on these figures. "
   ]
  },
  {
   "cell_type": "markdown",
   "id": "3ed3f695",
   "metadata": {},
   "source": [
    "# Round 1"
   ]
  },
  {
   "cell_type": "code",
   "execution_count": 81,
   "id": "bd37d0fd",
   "metadata": {},
   "outputs": [],
   "source": [
    "attempt_1 = \"Round 1\"\n",
    "\n",
    "start_with_1 = 300\n",
    "\n",
    "spent_1 = 300\n",
    "\n",
    "left_with_1 = 0\n",
    "\n",
    "won_1 = 30 + 40 + 30 + 50 + 50\n",
    "\n",
    "status_1 = won_1 - spent_1\n",
    "\n",
    "reinvest_1 = start_with_1 - abs(status_1)"
   ]
  },
  {
   "cell_type": "code",
   "execution_count": 97,
   "id": "e80a1fa2",
   "metadata": {},
   "outputs": [
    {
     "name": "stdout",
     "output_type": "stream",
     "text": [
      "Starting with $300\n",
      "\n",
      "Spent $300 \n",
      "\n",
      "Left with $0\n",
      "\n",
      "Won $200\n",
      "\n",
      "Result $-100\n",
      "\n",
      "Result to reinvest $200\n"
     ]
    }
   ],
   "source": [
    "print(f\"Starting with ${start_with_1}\")\n",
    "print()\n",
    "print(f\"Spent ${spent_1} \")\n",
    "print()\n",
    "print(f\"Left with ${left_with_1}\")\n",
    "print()\n",
    "print(f\"Won ${won_1}\")\n",
    "print()\n",
    "print(f\"Result ${status_1}\")\n",
    "print()\n",
    "print(f\"Result to reinvest ${reinvest_1}\")"
   ]
  },
  {
   "cell_type": "markdown",
   "id": "c90d16b2",
   "metadata": {},
   "source": [
    "# Round 2 \n",
    "## There was an issue with the lottery card dispensor, so I only got sixty dollars worth (two cards)"
   ]
  },
  {
   "cell_type": "code",
   "execution_count": 88,
   "id": "0cfe5058",
   "metadata": {},
   "outputs": [],
   "source": [
    "attempt_2 = \"Round 2\"\n",
    "\n",
    "start_with_2 = ended_with_1\n",
    "\n",
    "spent_2 = 60\n",
    "\n",
    "left_with_2 = start_with_2 - spent_2\n",
    "\n",
    "won_2 = 50 + 10 + 20 + 20 + 30 + 20\n",
    "\n",
    "status_2 = won_2 - spent_2\n",
    "\n",
    "ended_with_2 = won_2 + left_with_2\n",
    "\n",
    "#reinvest_1 = start_with_1 - abs(status_1)"
   ]
  },
  {
   "cell_type": "code",
   "execution_count": 90,
   "id": "c9f598a8",
   "metadata": {},
   "outputs": [
    {
     "name": "stdout",
     "output_type": "stream",
     "text": [
      "Starting with $200\n",
      "\n",
      "Spent $60 \n",
      "\n",
      "Left with $140\n",
      "\n",
      "Won $150\n",
      "\n",
      "Result to reinvest $290\n"
     ]
    }
   ],
   "source": [
    "print(f\"Starting with ${start_with_2}\")\n",
    "print()\n",
    "print(f\"Spent ${spent_2} \")\n",
    "print()\n",
    "print(f\"Left with ${start_with_2 - spent_2}\")\n",
    "print()\n",
    "print(f\"Won ${won_2}\")\n",
    "print()\n",
    "print(f\"Result to reinvest ${ended_with_2}\")"
   ]
  },
  {
   "cell_type": "markdown",
   "id": "3b80c9af",
   "metadata": {},
   "source": [
    "# Round 3"
   ]
  },
  {
   "cell_type": "code",
   "execution_count": 95,
   "id": "d0fd5456",
   "metadata": {},
   "outputs": [],
   "source": [
    "attempt_3 = \"Round 3\"\n",
    "\n",
    "start_with_3 = ended_with_2\n",
    "\n",
    "spent_3 = start_with_3\n",
    "\n",
    "left_with_3 = start_with_3 - spent_3\n",
    "\n",
    "won_3 = 50 + 50 + 40 + 40\n",
    "\n",
    "status_3 = won_3 - spent_3\n",
    "\n",
    "lost_3 = spent_3 - won_3\n",
    "\n",
    "ended_with_3 = won_3 + left_with_3"
   ]
  },
  {
   "cell_type": "code",
   "execution_count": 96,
   "id": "9ce58f2d",
   "metadata": {},
   "outputs": [
    {
     "name": "stdout",
     "output_type": "stream",
     "text": [
      "Starting with $290\n",
      "\n",
      "Spent $290 \n",
      "\n",
      "Left with $0\n",
      "\n",
      "Won $180\n",
      "\n",
      "Lost $110\n",
      "\n",
      "Result to reinvest $180\n"
     ]
    }
   ],
   "source": [
    "print(f\"Starting with ${start_with_3}\")\n",
    "print()\n",
    "print(f\"Spent ${spent_3} \")\n",
    "print()\n",
    "print(f\"Left with ${start_with_3 - spent_3}\")\n",
    "print()\n",
    "print(f\"Won ${won_3}\")\n",
    "print()\n",
    "print(f\"Lost ${lost_3}\")\n",
    "print()\n",
    "print(f\"Result to reinvest ${ended_with_3}\")"
   ]
  },
  {
   "cell_type": "markdown",
   "id": "87abf159",
   "metadata": {},
   "source": [
    "# Round 4"
   ]
  },
  {
   "cell_type": "code",
   "execution_count": 99,
   "id": "7b1ee19d",
   "metadata": {},
   "outputs": [],
   "source": [
    "attempt_4 = \"Round 4\"\n",
    "\n",
    "start_with_4 = ended_with_3\n",
    "\n",
    "spent_4 = start_with_4\n",
    "\n",
    "left_with_4 = start_with_4 - spent_4\n",
    "\n",
    "won_4 = 100 + 40 + 30\n",
    "\n",
    "status_4 = won_4 - spent_4\n",
    "\n",
    "lost_4 = spent_4 - won_4\n",
    "\n",
    "ended_with_4 = won_4 + left_with_4"
   ]
  },
  {
   "cell_type": "code",
   "execution_count": 100,
   "id": "ba897d50",
   "metadata": {},
   "outputs": [
    {
     "name": "stdout",
     "output_type": "stream",
     "text": [
      "Starting with $180\n",
      "\n",
      "Spent $180 \n",
      "\n",
      "Left with $0\n",
      "\n",
      "Won $170\n",
      "\n",
      "Lost $10\n",
      "\n",
      "Result to reinvest $170\n"
     ]
    }
   ],
   "source": [
    "print(f\"Starting with ${start_with_4}\")\n",
    "print()\n",
    "print(f\"Spent ${spent_4} \")\n",
    "print()\n",
    "print(f\"Left with ${start_with_4 - spent_4}\")\n",
    "print()\n",
    "print(f\"Won ${won_4}\")\n",
    "print()\n",
    "print(f\"Lost ${lost_4}\")\n",
    "print()\n",
    "print(f\"Result to reinvest ${ended_with_4}\")"
   ]
  },
  {
   "cell_type": "markdown",
   "id": "190aeeab",
   "metadata": {},
   "source": [
    "# Overall Status at the moment"
   ]
  },
  {
   "cell_type": "code",
   "execution_count": 101,
   "id": "cdb6ccb3",
   "metadata": {},
   "outputs": [
    {
     "name": "stdout",
     "output_type": "stream",
     "text": [
      "We're sitting at $170\n",
      "We started with $300\n",
      "So far we're at $-130 in the\n",
      "Scratch Off Experiment\n",
      "after Round 4\n",
      "\n"
     ]
    }
   ],
   "source": [
    "attempt_4 = \"Round 4\"\n",
    "\n",
    "print(f\"\"\"We're sitting at ${ended_with_4}\n",
    "We started with ${start_with_1}\n",
    "So far we're at ${won_4 - spent_1} in the\n",
    "Scratch Off Experiment\n",
    "after {attempt_4}\n",
    "\"\"\")"
   ]
  },
  {
   "cell_type": "code",
   "execution_count": null,
   "id": "df1bd906",
   "metadata": {},
   "outputs": [],
   "source": []
  }
 ],
 "metadata": {
  "kernelspec": {
   "display_name": "firstEnv",
   "language": "python",
   "name": "firstenv"
  },
  "language_info": {
   "codemirror_mode": {
    "name": "ipython",
    "version": 3
   },
   "file_extension": ".py",
   "mimetype": "text/x-python",
   "name": "python",
   "nbconvert_exporter": "python",
   "pygments_lexer": "ipython3",
   "version": "3.9.6"
  },
  "toc": {
   "base_numbering": 1,
   "nav_menu": {},
   "number_sections": true,
   "sideBar": true,
   "skip_h1_title": false,
   "title_cell": "Table of Contents",
   "title_sidebar": "Contents",
   "toc_cell": false,
   "toc_position": {},
   "toc_section_display": true,
   "toc_window_display": false
  }
 },
 "nbformat": 4,
 "nbformat_minor": 5
}
